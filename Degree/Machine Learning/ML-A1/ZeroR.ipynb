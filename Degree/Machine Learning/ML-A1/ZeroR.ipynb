{
  "nbformat": 4,
  "nbformat_minor": 0,
  "metadata": {
    "colab": {
      "provenance": []
    },
    "kernelspec": {
      "name": "python3",
      "display_name": "Python 3"
    },
    "language_info": {
      "name": "python"
    }
  },
  "cells": [
    {
      "cell_type": "code",
      "source": [
        "import numpy as np\n",
        "import pandas as pd\n",
        "## pip install openpyxl\n",
        "'''\n",
        "    Zero R\n",
        "    select of Major Determination Class is Depression\n",
        "'''\n",
        "\n",
        "# Read data set\n",
        "survey_df = pd.read_excel('Freq-PHO-Binary.csv')\n",
        "\n",
        "# Find total collected response\n",
        "totalResponse = survey_df['Depression'].count()\n",
        "\n",
        "# Find each result of occurrence (YES/NO)\n",
        "countResponse = survey_df['Depression'].value_counts(ascending=False)\n",
        "\n",
        "# Find most occurence of value\n",
        "frequentResponse = countResponse[countResponse == countResponse[0]].index[0]\n",
        "\n",
        "# Find accuracy by take most occurrence divide all responses (Confusion Matrix)\n",
        "TP = survey_df.loc[survey_df.Depression == 'YES', 'Depression'].count()\n",
        "FP = survey_df.loc[survey_df.Depression == 'NO', 'Depression'].count()\n",
        "precision = TP / (TP+FP)\n",
        "recall = TP / (TP+0)\n",
        "accuracy = countResponse[0] / totalResponse * 100\n",
        "\n",
        "# Display Result\n",
        "depressionResult = \"Students are depression over 2 week :(\" if frequentResponse.upper() == \"YES\".upper() else \"Student are not depression over 2 week :)\"\n",
        "print('Values Occurrence in the Depression Coloumn:\\n',countResponse)\n",
        "print(\"Frequent response is {}, so {}\".format(frequentResponse,depressionResult))\n",
        "print('Zero R Accuracy :',accuracy)"
      ],
      "metadata": {
        "colab": {
          "base_uri": "https://localhost:8080/"
        },
        "id": "0FDl7PYOyonv",
        "outputId": "d69bee5c-4636-4755-9e16-a21d1db02ac7"
      },
      "execution_count": null,
      "outputs": [
        {
          "output_type": "stream",
          "name": "stdout",
          "text": [
            "Values Occurrence in the Depression Coloumn:\n",
            " YES    52\n",
            "NO     48\n",
            "Name: Depression, dtype: int64\n",
            "Frequent response is YES, so Students are depression over 2 week :(\n",
            "Zero R Accuracy : 52.0\n"
          ]
        }
      ]
    }
  ]
}